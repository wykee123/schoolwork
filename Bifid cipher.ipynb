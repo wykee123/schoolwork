{
 "cells": [
  {
   "cell_type": "code",
   "execution_count": 2,
   "metadata": {},
   "outputs": [],
   "source": [
    "cipher = [\n",
    "         ['a','b','c','d','e'],\n",
    "         ['f','g','h','i','k'],\n",
    "         ['l','m','n','o','p'],\n",
    "         ['q','r','s','t','u'],\n",
    "         ['v','w','x','y','z']\n",
    "         ]"
   ]
  },
  {
   "cell_type": "code",
   "execution_count": 3,
   "metadata": {},
   "outputs": [],
   "source": [
    "message = 'pleasehireme'"
   ]
  },
  {
   "cell_type": "code",
   "execution_count": 4,
   "metadata": {},
   "outputs": [
    {
     "name": "stdout",
     "output_type": "stream",
     "text": [
      "['p', 'l', 'e', 'a', 's', 'e', 'h', 'i', 'r', 'e', 'm', 'e']\n"
     ]
    }
   ],
   "source": [
    "letters_msg = [i for i in message]\n",
    "print(letters_msg)"
   ]
  },
  {
   "cell_type": "code",
   "execution_count": 5,
   "metadata": {},
   "outputs": [
    {
     "name": "stdout",
     "output_type": "stream",
     "text": [
      "[3, 5, 3, 1, 1, 5, 1, 1, 4, 3, 1, 5, 2, 3, 2, 4, 4, 2, 1, 5, 3, 2, 1, 5]\n",
      "24\n"
     ]
    }
   ],
   "source": [
    "temp_msg = []\n",
    "for j in letters_msg:\n",
    "    for i in cipher:\n",
    "        if j in i:\n",
    "            temp_msg.append(cipher.index(i)+1)\n",
    "            temp_msg.append(i.index(j)+1)\n",
    "#             print(cipher.index(i)+1, i.index(j)+1)\n",
    "\n",
    "print(temp_msg)\n",
    "print(len(temp_msg))"
   ]
  },
  {
   "cell_type": "code",
   "execution_count": 6,
   "metadata": {},
   "outputs": [
    {
     "name": "stdout",
     "output_type": "stream",
     "text": [
      "[3, 3, 1, 1, 4, 1, 2, 2, 4, 1, 3, 1]\n",
      "[5, 1, 5, 1, 3, 5, 3, 4, 2, 5, 2, 5]\n"
     ]
    }
   ],
   "source": [
    "temp_msg_a = []\n",
    "temp_msg_b = []\n",
    "for i in range(len(temp_msg)):\n",
    "    if i%2 == 0:\n",
    "        temp_msg_a.append(temp_msg[i])\n",
    "    else:\n",
    "        temp_msg_b.append(temp_msg[i])\n",
    "\n",
    "print(temp_msg_a)\n",
    "print(temp_msg_b)"
   ]
  },
  {
   "cell_type": "code",
   "execution_count": 7,
   "metadata": {},
   "outputs": [
    {
     "name": "stdout",
     "output_type": "stream",
     "text": [
      "[3, 3, 1, 1, 4, 1, 2, 2, 4, 1, 3, 1, 5, 1, 5, 1, 3, 5, 3, 4, 2, 5, 2, 5]\n",
      "24\n"
     ]
    }
   ],
   "source": [
    "temp_msg_ab = temp_msg_a + temp_msg_b\n",
    "print(temp_msg_ab)\n",
    "print(len(temp_msg_ab))"
   ]
  },
  {
   "cell_type": "code",
   "execution_count": 8,
   "metadata": {},
   "outputs": [
    {
     "name": "stdout",
     "output_type": "stream",
     "text": [
      "The encrypted message is: naqgqlvvpokk\n"
     ]
    }
   ],
   "source": [
    "encrypt = []\n",
    "for i in range(len(temp_msg_ab)-1):\n",
    "    if i%2 == 0:\n",
    "        encrypt.append(cipher[temp_msg_ab[i]-1][temp_msg_ab[i+1]-1])\n",
    "#         print(encrypt)\n",
    "\n",
    "str_encrypt = ''\n",
    "for i in encrypt:\n",
    "    str_encrypt += i\n",
    "print('The encrypted message is:', str_encrypt)"
   ]
  },
  {
   "cell_type": "code",
   "execution_count": 9,
   "metadata": {},
   "outputs": [],
   "source": [
    "encrypt = 'naqgqlvvpokk'"
   ]
  },
  {
   "cell_type": "code",
   "execution_count": 10,
   "metadata": {},
   "outputs": [],
   "source": [
    "letters = [i for i in encrypt]"
   ]
  },
  {
   "cell_type": "code",
   "execution_count": 11,
   "metadata": {},
   "outputs": [
    {
     "name": "stdout",
     "output_type": "stream",
     "text": [
      "['n', 'a', 'q', 'g', 'q', 'l', 'v', 'v', 'p', 'o', 'k', 'k']\n"
     ]
    }
   ],
   "source": [
    "print(letters)"
   ]
  },
  {
   "cell_type": "code",
   "execution_count": 12,
   "metadata": {},
   "outputs": [
    {
     "name": "stdout",
     "output_type": "stream",
     "text": [
      "[3, 3, 1, 1, 4, 1, 2, 2, 4, 1, 3, 1, 5, 1, 5, 1, 3, 5, 3, 4, 2, 5, 2, 5]\n",
      "24\n"
     ]
    }
   ],
   "source": [
    "temp = []\n",
    "for j in letters:\n",
    "    for i in cipher:\n",
    "        if j in i:\n",
    "            temp.append(cipher.index(i)+1)\n",
    "            temp.append(i.index(j)+1)\n",
    "#             print(cipher.index(i)+1, i.index(j)+1)\n",
    "\n",
    "print(temp)\n",
    "print(len(temp))"
   ]
  },
  {
   "cell_type": "code",
   "execution_count": 13,
   "metadata": {
    "scrolled": false
   },
   "outputs": [
    {
     "name": "stdout",
     "output_type": "stream",
     "text": [
      "[3, 3, 1, 1, 4, 1, 2, 2, 4, 1, 3, 1]\n",
      "[5, 1, 5, 1, 3, 5, 3, 4, 2, 5, 2, 5]\n"
     ]
    }
   ],
   "source": [
    "len(temp)\n",
    "slice = int(len(temp)/2)\n",
    "slice\n",
    "temp_a = temp[:slice]\n",
    "print(temp_a)\n",
    "temp_b = temp[slice:]\n",
    "print(temp_b)"
   ]
  },
  {
   "cell_type": "code",
   "execution_count": 14,
   "metadata": {},
   "outputs": [
    {
     "name": "stdout",
     "output_type": "stream",
     "text": [
      "The decrypted message is: pleasehireme\n"
     ]
    }
   ],
   "source": [
    "decrypt = []\n",
    "for i in range(len(temp_a)):\n",
    "    decrypt.append(cipher[temp_a[i]-1][temp_b[i]-1])\n",
    "\n",
    "str = ''\n",
    "for i in decrypt:\n",
    "    str += i\n",
    "print('The decrypted message is:', str)"
   ]
  },
  {
   "cell_type": "code",
   "execution_count": null,
   "metadata": {},
   "outputs": [],
   "source": []
  }
 ],
 "metadata": {
  "kernelspec": {
   "display_name": "Python 3",
   "language": "python",
   "name": "python3"
  },
  "language_info": {
   "codemirror_mode": {
    "name": "ipython",
    "version": 3
   },
   "file_extension": ".py",
   "mimetype": "text/x-python",
   "name": "python",
   "nbconvert_exporter": "python",
   "pygments_lexer": "ipython3",
   "version": "3.8.5"
  }
 },
 "nbformat": 4,
 "nbformat_minor": 4
}
