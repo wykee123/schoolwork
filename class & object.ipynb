{
 "cells": [
  {
   "cell_type": "code",
   "execution_count": 3,
   "metadata": {},
   "outputs": [],
   "source": [
    "class Point:\n",
    "    def __init__(self, x, y):\n",
    "        self.x = x\n",
    "        self.y = y\n",
    "        print('x coordinate:', self.x)\n",
    "        print('y coordinate:', self.y)"
   ]
  },
  {
   "cell_type": "code",
   "execution_count": 4,
   "metadata": {},
   "outputs": [
    {
     "name": "stdout",
     "output_type": "stream",
     "text": [
      "x coordinate: 1\n",
      "y coordinate: 2\n"
     ]
    },
    {
     "data": {
      "text/plain": [
       "<__main__.Point at 0x2443be05970>"
      ]
     },
     "execution_count": 4,
     "metadata": {},
     "output_type": "execute_result"
    }
   ],
   "source": [
    "Point(1,2)"
   ]
  },
  {
   "cell_type": "code",
   "execution_count": 9,
   "metadata": {},
   "outputs": [],
   "source": [
    "class Circle:\n",
    "    def __init__(self, origin, radius):\n",
    "        self.origin = origin\n",
    "        self.radius = radius\n",
    "        print('Circle x origin:', self.origin.x)\n",
    "        print('Circle y origin:', self.origin.y)\n",
    "        print('Circle radius:', self.radius)"
   ]
  },
  {
   "cell_type": "code",
   "execution_count": 10,
   "metadata": {},
   "outputs": [
    {
     "name": "stdout",
     "output_type": "stream",
     "text": [
      "x coordinate: 1\n",
      "y coordinate: 2\n",
      "Circle x origin: 1\n",
      "Circle y origin: 2\n",
      "Circle radius: 1\n"
     ]
    },
    {
     "data": {
      "text/plain": [
       "<__main__.Circle at 0x2443bf1d2e0>"
      ]
     },
     "execution_count": 10,
     "metadata": {},
     "output_type": "execute_result"
    }
   ],
   "source": [
    "Circle(Point(1,2), 1)"
   ]
  },
  {
   "cell_type": "code",
   "execution_count": 13,
   "metadata": {},
   "outputs": [],
   "source": [
    "def build_circle(x, y, radius):\n",
    "    Point(x, y)\n",
    "    Circle(Point(x, y), radius)"
   ]
  },
  {
   "cell_type": "code",
   "execution_count": 14,
   "metadata": {},
   "outputs": [
    {
     "name": "stdout",
     "output_type": "stream",
     "text": [
      "x coordinate: 3\n",
      "y coordinate: 4\n",
      "x coordinate: 3\n",
      "y coordinate: 4\n",
      "Circle x origin: 3\n",
      "Circle y origin: 4\n",
      "Circle radius: 5\n"
     ]
    }
   ],
   "source": [
    "circle_1 = build_circle(3, 4, 5)"
   ]
  },
  {
   "cell_type": "code",
   "execution_count": 76,
   "metadata": {},
   "outputs": [],
   "source": [
    "class Point_n_Circle:\n",
    "    def __init__(self, x, y, radius):\n",
    "        self.x = x\n",
    "        self.y = y\n",
    "        self.radius = radius\n",
    "        print('Circle x origin:', self.x)\n",
    "        print('Circle y origin:', self.y)\n",
    "        print('Circle radius:', self.radius)\n",
    "    def get_circle_area(self):\n",
    "        circle_area = 3.14159 * self.radius * self.radius\n",
    "        print('Circle area:', round(circle_area,4))\n",
    "        return self\n",
    "    def plot_circle(self):\n",
    "        import matplotlib.pyplot as plt\n",
    "        plot_circle = plt.Circle((self.x, self.y), self.radius, color='b', fill=False)\n",
    "        ax = plt.gca()\n",
    "        plt.gca().set_aspect('equal', adjustable='box')\n",
    "        ax.cla()\n",
    "        ax.set_xlim((self.x - 2*self.radius, self.x + 2*self.radius))\n",
    "        ax.set_ylim((self.y - 2*self.radius, self.y + 2*self.radius))\n",
    "        ax.add_patch(plot_circle)\n",
    "        return self"
   ]
  },
  {
   "cell_type": "code",
   "execution_count": 77,
   "metadata": {
    "scrolled": false
   },
   "outputs": [
    {
     "name": "stdout",
     "output_type": "stream",
     "text": [
      "Circle x origin: 1\n",
      "Circle y origin: 2\n",
      "Circle radius: 3\n",
      "Circle area: 28.2743\n"
     ]
    },
    {
     "data": {
      "text/plain": [
       "<__main__.Point_n_Circle at 0x2443fc2dd60>"
      ]
     },
     "execution_count": 77,
     "metadata": {},
     "output_type": "execute_result"
    },
    {
     "data": {
      "image/png": "[encoded data removed]",
      "text/plain": [
       "<Figure size 432x288 with 1 Axes>"
      ]
     },
     "metadata": {
      "needs_background": "light"
     },
     "output_type": "display_data"
    }
   ],
   "source": [
    "Point_n_Circle(1, 2, 3).get_circle_area().plot_circle()"
   ]
  },
  {
   "cell_type": "code",
   "execution_count": 78,
   "metadata": {},
   "outputs": [
    {
     "name": "stdout",
     "output_type": "stream",
     "text": [
      "Circle x origin: 1\n",
      "Circle y origin: 2\n",
      "Circle radius: 3\n"
     ]
    },
    {
     "data": {
      "text/plain": [
       "<__main__.Point_n_Circle at 0x2443fc2d520>"
      ]
     },
     "execution_count": 78,
     "metadata": {},
     "output_type": "execute_result"
    },
    {
     "data": {
      "image/png": "[encoded data removed]",
      "text/plain": [
       "<Figure size 432x288 with 1 Axes>"
      ]
     },
     "metadata": {
      "needs_background": "light"
     },
     "output_type": "display_data"
    }
   ],
   "source": [
    "Point_n_Circle(1, 2, 3).plot_circle()"
   ]
  },
  {
   "cell_type": "code",
   "execution_count": 79,
   "metadata": {},
   "outputs": [
    {
     "name": "stdout",
     "output_type": "stream",
     "text": [
      "Circle x origin: 5\n",
      "Circle y origin: 6\n",
      "Circle radius: 9\n",
      "Circle area: 254.4688\n"
     ]
    },
    {
     "data": {
      "text/plain": [
       "<__main__.Point_n_Circle at 0x24440ca58b0>"
      ]
     },
     "execution_count": 79,
     "metadata": {},
     "output_type": "execute_result"
    },
    {
     "data": {
      "image/png": "[encoded data removed]",
      "text/plain": [
       "<Figure size 432x288 with 1 Axes>"
      ]
     },
     "metadata": {
      "needs_background": "light"
     },
     "output_type": "display_data"
    }
   ],
   "source": [
    "Point_n_Circle(5, 6, 9).get_circle_area().plot_circle()"
   ]
  },
  {
   "cell_type": "code",
   "execution_count": 80,
   "metadata": {
    "scrolled": true
   },
   "outputs": [
    {
     "name": "stdout",
     "output_type": "stream",
     "text": [
      "Circle x origin: -5\n",
      "Circle y origin: -6\n",
      "Circle radius: 9\n",
      "Circle area: 254.4688\n"
     ]
    },
    {
     "data": {
      "text/plain": [
       "<__main__.Point_n_Circle at 0x24440cecb50>"
      ]
     },
     "execution_count": 80,
     "metadata": {},
     "output_type": "execute_result"
    },
    {
     "data": {
      "image/png": "[encoded data removed]",
      "text/plain": [
       "<Figure size 432x288 with 1 Axes>"
      ]
     },
     "metadata": {
      "needs_background": "light"
     },
     "output_type": "display_data"
    }
   ],
   "source": [
    "Point_n_Circle(-5, -6, 9).get_circle_area().plot_circle()"
   ]
  },
  {
   "cell_type": "code",
   "execution_count": 86,
   "metadata": {},
   "outputs": [
    {
     "name": "stdout",
     "output_type": "stream",
     "text": [
      "Circle x origin: 2\n",
      "Circle y origin: 4\n",
      "Circle radius: 8\n"
     ]
    }
   ],
   "source": [
    "new_circle = Point_n_Circle(2,4,8)"
   ]
  },
  {
   "cell_type": "code",
   "execution_count": 87,
   "metadata": {},
   "outputs": [
    {
     "name": "stdout",
     "output_type": "stream",
     "text": [
      "Circle area: 201.0618\n"
     ]
    },
    {
     "data": {
      "text/plain": [
       "<__main__.Point_n_Circle at 0x24440d4ceb0>"
      ]
     },
     "execution_count": 87,
     "metadata": {},
     "output_type": "execute_result"
    }
   ],
   "source": [
    "new_circle.get_circle_area()"
   ]
  },
  {
   "cell_type": "code",
   "execution_count": 88,
   "metadata": {
    "scrolled": true
   },
   "outputs": [
    {
     "data": {
      "text/plain": [
       "<__main__.Point_n_Circle at 0x24440d4ceb0>"
      ]
     },
     "execution_count": 88,
     "metadata": {},
     "output_type": "execute_result"
    },
    {
     "data": {
      "image/png": "[encoded data removed]",
      "text/plain": [
       "<Figure size 432x288 with 1 Axes>"
      ]
     },
     "metadata": {
      "needs_background": "light"
     },
     "output_type": "display_data"
    }
   ],
   "source": [
    "new_circle.plot_circle()"
   ]
  },
  {
   "cell_type": "code",
   "execution_count": 89,
   "metadata": {},
   "outputs": [],
   "source": [
    "class Point_n_Circle_v2:\n",
    "    def __init__(self, input_dict):\n",
    "        self.x = input_dict['x']\n",
    "        self.y = input_dict['y']\n",
    "        self.radius = input_dict['radius']\n",
    "        print('Circle x origin:', self.x)\n",
    "        print('Circle y origin:', self.y)\n",
    "        print('Circle radius:', self.radius)\n",
    "    def get_circle_area(self):\n",
    "        circle_area = 3.14159 * self.radius * self.radius\n",
    "        print('Circle area:', round(circle_area,4))\n",
    "        return self\n",
    "    def plot_circle(self):\n",
    "        import matplotlib.pyplot as plt\n",
    "        plot_circle = plt.Circle((self.x, self.y), self.radius, color='b', fill=False)\n",
    "        ax = plt.gca()\n",
    "        plt.gca().set_aspect('equal', adjustable='box')\n",
    "        ax.cla()\n",
    "        ax.set_xlim((self.x - 2*self.radius, self.x + 2*self.radius))\n",
    "        ax.set_ylim((self.y - 2*self.radius, self.y + 2*self.radius))\n",
    "        ax.add_patch(plot_circle)\n",
    "        return self"
   ]
  },
  {
   "cell_type": "code",
   "execution_count": 96,
   "metadata": {},
   "outputs": [],
   "source": [
    "input_dict = {'x':1, 'y':2, 'radius':3}"
   ]
  },
  {
   "cell_type": "code",
   "execution_count": 97,
   "metadata": {},
   "outputs": [
    {
     "name": "stdout",
     "output_type": "stream",
     "text": [
      "Circle x origin: 1\n",
      "Circle y origin: 2\n",
      "Circle radius: 3\n"
     ]
    }
   ],
   "source": [
    "new_circle_2 = Point_n_Circle_v2(input_dict)"
   ]
  },
  {
   "cell_type": "code",
   "execution_count": 98,
   "metadata": {
    "scrolled": true
   },
   "outputs": [
    {
     "data": {
      "text/plain": [
       "<__main__.Point_n_Circle_v2 at 0x2443fa7f8b0>"
      ]
     },
     "execution_count": 98,
     "metadata": {},
     "output_type": "execute_result"
    },
    {
     "data": {
      "image/png": "[encoded data removed]",
      "text/plain": [
       "<Figure size 432x288 with 1 Axes>"
      ]
     },
     "metadata": {
      "needs_background": "light"
     },
     "output_type": "display_data"
    }
   ],
   "source": [
    "new_circle_2.plot_circle()"
   ]
  },
  {
   "cell_type": "code",
   "execution_count": 99,
   "metadata": {},
   "outputs": [
    {
     "name": "stdout",
     "output_type": "stream",
     "text": [
      "Circle area: 28.2743\n"
     ]
    },
    {
     "data": {
      "text/plain": [
       "<__main__.Point_n_Circle_v2 at 0x2443fa7f8b0>"
      ]
     },
     "execution_count": 99,
     "metadata": {},
     "output_type": "execute_result"
    }
   ],
   "source": [
    "new_circle_2.get_circle_area()"
   ]
  },
  {
   "cell_type": "code",
   "execution_count": null,
   "metadata": {},
   "outputs": [],
   "source": []
  }
 ],
 "metadata": {
  "kernelspec": {
   "display_name": "Python 3",
   "language": "python",
   "name": "python3"
  },
  "language_info": {
   "codemirror_mode": {
    "name": "ipython",
    "version": 3
   },
   "file_extension": ".py",
   "mimetype": "text/x-python",
   "name": "python",
   "nbconvert_exporter": "python",
   "pygments_lexer": "ipython3",
   "version": "3.8.5"
  }
 },
 "nbformat": 4,
 "nbformat_minor": 4
}
